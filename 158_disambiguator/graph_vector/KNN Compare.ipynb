{
 "cells": [
  {
   "cell_type": "markdown",
   "metadata": {},
   "source": [
    "## Load libraries"
   ]
  },
  {
   "cell_type": "code",
   "execution_count": 1,
   "metadata": {},
   "outputs": [],
   "source": [
    "from gensim.models import KeyedVectors\n",
    "import faiss\n",
    "import numpy as np"
   ]
  },
  {
   "cell_type": "code",
   "execution_count": 2,
   "metadata": {},
   "outputs": [],
   "source": [
    "NEIGHBORS = 50\n",
    "\n",
    "word = 'проказа'"
   ]
  },
  {
   "cell_type": "code",
   "execution_count": 3,
   "metadata": {},
   "outputs": [],
   "source": [
    "word_vectors_fpath = \"models/wikipedia-ru-2018.word_vectors\""
   ]
  },
  {
   "cell_type": "code",
   "execution_count": 4,
   "metadata": {
    "scrolled": true
   },
   "outputs": [
    {
     "name": "stderr",
     "output_type": "stream",
     "text": [
      "/home/denis/Programs/anaconda3/lib/python3.7/site-packages/smart_open/smart_open_lib.py:398: UserWarning: This function is deprecated, use smart_open.open instead. See the migration notes for details: https://github.com/RaRe-Technologies/smart_open/blob/master/README.rst#migrating-to-the-new-open-function\n",
      "  'See the migration notes for details: %s' % _MIGRATION_NOTES_URL\n"
     ]
    }
   ],
   "source": [
    "wv = KeyedVectors.load_word2vec_format(word_vectors_fpath, binary=False, unicode_errors=\"ignore\")"
   ]
  },
  {
   "cell_type": "code",
   "execution_count": 5,
   "metadata": {},
   "outputs": [],
   "source": [
    "wv.init_sims(replace=True)"
   ]
  },
  {
   "cell_type": "markdown",
   "metadata": {},
   "source": [
    "## knn by w2v"
   ]
  },
  {
   "cell_type": "code",
   "execution_count": 6,
   "metadata": {},
   "outputs": [],
   "source": [
    "def get_nns(target, topn=NEIGHBORS):\n",
    "    \"\"\"\n",
    "    target - word token\n",
    "    topn - how many neighbors\n",
    "    \"\"\"\n",
    "    nns = wv.most_similar(positive=[target], negative=[], topn=topn)\n",
    "    #nns = [(word, score) for word, score in nns if minimize(word) != minimize(target)]\n",
    "    return nns"
   ]
  },
  {
   "cell_type": "code",
   "execution_count": 7,
   "metadata": {
    "scrolled": false
   },
   "outputs": [
    {
     "name": "stdout",
     "output_type": "stream",
     "text": [
      "CPU times: user 258 ms, sys: 12 ms, total: 270 ms\n",
      "Wall time: 384 ms\n"
     ]
    },
    {
     "data": {
      "text/plain": [
       "[('малярия', 0.7535935640335083),\n",
       " ('гонорея', 0.7530273199081421),\n",
       " ('брюшной_тиф', 0.7527637481689453),\n",
       " ('хроническая', 0.7498410940170288),\n",
       " ('энцефалопатия', 0.7485659122467041),\n",
       " ('чесотка', 0.7483586072921753),\n",
       " ('волчанка', 0.7467740774154663),\n",
       " ('сибирская_язва', 0.744862973690033),\n",
       " ('пневмония', 0.7420924305915833),\n",
       " ('экзема', 0.7396251559257507),\n",
       " ('акатизия', 0.7387583255767822),\n",
       " ('диарея', 0.7369372844696045),\n",
       " ('панкреатит', 0.7364274263381958),\n",
       " ('ревматоидный_артрит', 0.7353441715240479),\n",
       " ('идиопатическая', 0.7351337671279907),\n",
       " ('кожный_зуд', 0.7348761558532715),\n",
       " ('скарлатина', 0.7332731485366821),\n",
       " ('энтерит', 0.7330397963523865),\n",
       " ('нейродермит', 0.7294857501983643),\n",
       " ('сифилис', 0.7289275527000427),\n",
       " ('корь', 0.7280865907669067),\n",
       " ('простатит', 0.7264933586120605),\n",
       " ('вирусная_инфекция', 0.7261444926261902),\n",
       " ('конъюнктивит', 0.7260156869888306),\n",
       " ('гангрена', 0.7253180742263794),\n",
       " ('себорея', 0.7248758673667908),\n",
       " ('склеродермия', 0.7244752645492554),\n",
       " ('саркома', 0.7239407896995544),\n",
       " ('кишечная_непроходимость', 0.723781406879425),\n",
       " ('псориаз', 0.722693145275116),\n",
       " ('эпилепсия', 0.722258448600769),\n",
       " ('стенокардия', 0.7215869426727295),\n",
       " ('радикулит', 0.7213318943977356),\n",
       " ('желтуха', 0.7208901643753052),\n",
       " ('подагра', 0.7205219268798828),\n",
       " ('системная_красная', 0.7203131318092346),\n",
       " ('злокачественная', 0.7202897667884827),\n",
       " ('язва_желудка', 0.720210611820221),\n",
       " ('ревматизм', 0.7201124429702759),\n",
       " ('сердечная_недостаточность', 0.7193735241889954),\n",
       " ('кардиомиопатия', 0.7190322279930115),\n",
       " ('катаракта', 0.7188063263893127),\n",
       " ('гемолитическая_анемия', 0.7184733152389526),\n",
       " ('ретинопатия', 0.7183877229690552),\n",
       " ('аллергический_ринит', 0.7183005809783936),\n",
       " ('токсоплазмоз', 0.7182757258415222),\n",
       " ('деменция', 0.7181838154792786),\n",
       " ('доброкачественная', 0.7180823087692261),\n",
       " ('диспепсические_явления', 0.71784508228302),\n",
       " ('гастроэнтерит', 0.7158942818641663)]"
      ]
     },
     "execution_count": 7,
     "metadata": {},
     "output_type": "execute_result"
    }
   ],
   "source": [
    "%%time\n",
    "get_nns(word)"
   ]
  },
  {
   "cell_type": "markdown",
   "metadata": {},
   "source": [
    "## KNN by faiss"
   ]
  },
  {
   "cell_type": "code",
   "execution_count": 8,
   "metadata": {
    "scrolled": true
   },
   "outputs": [
    {
     "name": "stderr",
     "output_type": "stream",
     "text": [
      "/home/denis/Programs/anaconda3/lib/python3.7/site-packages/ipykernel_launcher.py:2: DeprecationWarning: Call to deprecated `syn0norm` (Attribute will be removed in 4.0.0, use self.vectors_norm instead).\n",
      "  \n"
     ]
    }
   ],
   "source": [
    "index = faiss.IndexFlatIP(wv.vector_size)\n",
    "index.add(wv.syn0norm)"
   ]
  },
  {
   "cell_type": "code",
   "execution_count": 9,
   "metadata": {},
   "outputs": [],
   "source": [
    "def get_nns_faiss(target, topn=NEIGHBORS):\n",
    "    \"\"\"\n",
    "    Get target neighbors by faiss\n",
    "    \"\"\"\n",
    "    nns_list = list()\n",
    "\n",
    "    numpy_vec = np.array([wv[target]])\n",
    "    D, I = index.search(numpy_vec, topn + 1)\n",
    "\n",
    "    for _D, _I in zip(D, I):\n",
    "        for n, (d, i) in enumerate(zip(_D.ravel(), _I.ravel())):\n",
    "            if n > 0:\n",
    "                nns_list.append((wv.index2word[i], d))\n",
    "\n",
    "    return nns_list"
   ]
  },
  {
   "cell_type": "code",
   "execution_count": 10,
   "metadata": {},
   "outputs": [
    {
     "name": "stdout",
     "output_type": "stream",
     "text": [
      "CPU times: user 1.26 s, sys: 44.2 ms, total: 1.31 s\n",
      "Wall time: 339 ms\n"
     ]
    },
    {
     "data": {
      "text/plain": [
       "[('малярия', 0.75359356),\n",
       " ('гонорея', 0.75302726),\n",
       " ('брюшной_тиф', 0.75276375),\n",
       " ('хроническая', 0.74984103),\n",
       " ('энцефалопатия', 0.74856585),\n",
       " ('чесотка', 0.7483586),\n",
       " ('волчанка', 0.74677414),\n",
       " ('сибирская_язва', 0.74486303),\n",
       " ('пневмония', 0.7420925),\n",
       " ('экзема', 0.73962516),\n",
       " ('акатизия', 0.7387583),\n",
       " ('диарея', 0.73693734),\n",
       " ('панкреатит', 0.7364274),\n",
       " ('ревматоидный_артрит', 0.7353442),\n",
       " ('идиопатическая', 0.73513377),\n",
       " ('кожный_зуд', 0.73487616),\n",
       " ('скарлатина', 0.7332732),\n",
       " ('энтерит', 0.7330398),\n",
       " ('нейродермит', 0.72948575),\n",
       " ('сифилис', 0.72892755),\n",
       " ('корь', 0.72808653),\n",
       " ('простатит', 0.7264933),\n",
       " ('вирусная_инфекция', 0.7261445),\n",
       " ('конъюнктивит', 0.7260157),\n",
       " ('гангрена', 0.7253181),\n",
       " ('себорея', 0.72487587),\n",
       " ('склеродермия', 0.72447526),\n",
       " ('саркома', 0.7239408),\n",
       " ('кишечная_непроходимость', 0.7237814),\n",
       " ('псориаз', 0.7226931),\n",
       " ('эпилепсия', 0.72225845),\n",
       " ('стенокардия', 0.72158694),\n",
       " ('радикулит', 0.72133183),\n",
       " ('желтуха', 0.72089016),\n",
       " ('подагра', 0.7205219),\n",
       " ('системная_красная', 0.7203131),\n",
       " ('злокачественная', 0.72028977),\n",
       " ('язва_желудка', 0.72021055),\n",
       " ('ревматизм', 0.7201125),\n",
       " ('сердечная_недостаточность', 0.7193736),\n",
       " ('кардиомиопатия', 0.7190322),\n",
       " ('катаракта', 0.7188063),\n",
       " ('гемолитическая_анемия', 0.7184733),\n",
       " ('ретинопатия', 0.7183878),\n",
       " ('аллергический_ринит', 0.7183006),\n",
       " ('токсоплазмоз', 0.71827567),\n",
       " ('деменция', 0.71818376),\n",
       " ('доброкачественная', 0.71808237),\n",
       " ('диспепсические_явления', 0.7178451),\n",
       " ('гастроэнтерит', 0.7158943)]"
      ]
     },
     "execution_count": 10,
     "metadata": {},
     "output_type": "execute_result"
    }
   ],
   "source": [
    "%%time\n",
    "get_nns_faiss(word)"
   ]
  }
 ],
 "metadata": {
  "kernelspec": {
   "display_name": "Python 3",
   "language": "python",
   "name": "python3"
  },
  "language_info": {
   "codemirror_mode": {
    "name": "ipython",
    "version": 3
   },
   "file_extension": ".py",
   "mimetype": "text/x-python",
   "name": "python",
   "nbconvert_exporter": "python",
   "pygments_lexer": "ipython3",
   "version": "3.7.3"
  }
 },
 "nbformat": 4,
 "nbformat_minor": 2
}
