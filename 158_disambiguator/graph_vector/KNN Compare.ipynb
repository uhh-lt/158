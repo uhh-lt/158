{
 "cells": [
  {
   "cell_type": "markdown",
   "metadata": {},
   "source": [
    "## Load libraries"
   ]
  },
  {
   "cell_type": "code",
   "execution_count": 1,
   "metadata": {},
   "outputs": [],
   "source": [
    "from gensim.models import KeyedVectors\n",
    "import faiss\n",
    "import numpy as np"
   ]
  },
  {
   "cell_type": "code",
   "execution_count": 2,
   "metadata": {},
   "outputs": [],
   "source": [
    "NEIGHBORS = 50\n",
    "\n",
    "word = 'проказа'"
   ]
  },
  {
   "cell_type": "code",
   "execution_count": 3,
   "metadata": {},
   "outputs": [],
   "source": [
    "word_vectors_fpath = \"models/wikipedia-ru-2018.word_vectors\""
   ]
  },
  {
   "cell_type": "code",
   "execution_count": 4,
   "metadata": {
    "scrolled": false
   },
   "outputs": [
    {
     "name": "stderr",
     "output_type": "stream",
     "text": [
      "/home/denis/Programs/anaconda3/lib/python3.7/site-packages/smart_open/smart_open_lib.py:398: UserWarning: This function is deprecated, use smart_open.open instead. See the migration notes for details: https://github.com/RaRe-Technologies/smart_open/blob/master/README.rst#migrating-to-the-new-open-function\n",
      "  'See the migration notes for details: %s' % _MIGRATION_NOTES_URL\n"
     ]
    }
   ],
   "source": [
    "wv = KeyedVectors.load_word2vec_format(word_vectors_fpath, binary=False, unicode_errors=\"ignore\")"
   ]
  },
  {
   "cell_type": "markdown",
   "metadata": {},
   "source": [
    "## knn by w2v"
   ]
  },
  {
   "cell_type": "code",
   "execution_count": 5,
   "metadata": {},
   "outputs": [],
   "source": [
    "def get_nns(target, topn=NEIGHBORS):\n",
    "    \"\"\"\n",
    "    target - word token\n",
    "    topn - how many neighbors\n",
    "    \"\"\"\n",
    "    nns = wv.most_similar(positive=[target], negative=[], topn=topn)\n",
    "    #nns = [(word, score) for word, score in nns if minimize(word) != minimize(target)]\n",
    "    return nns"
   ]
  },
  {
   "cell_type": "code",
   "execution_count": 14,
   "metadata": {
    "scrolled": false
   },
   "outputs": [
    {
     "name": "stdout",
     "output_type": "stream",
     "text": [
      "CPU times: user 277 ms, sys: 4.04 ms, total: 281 ms\n",
      "Wall time: 512 ms\n"
     ]
    },
    {
     "data": {
      "text/plain": [
       "[('малярия', 0.7535935640335083),\n",
       " ('гонорея', 0.7530273199081421),\n",
       " ('брюшной_тиф', 0.7527637481689453),\n",
       " ('хроническая', 0.7498410940170288),\n",
       " ('энцефалопатия', 0.7485659122467041),\n",
       " ('чесотка', 0.7483586072921753),\n",
       " ('волчанка', 0.7467740774154663),\n",
       " ('сибирская_язва', 0.744862973690033),\n",
       " ('пневмония', 0.7420924305915833),\n",
       " ('экзема', 0.7396251559257507),\n",
       " ('акатизия', 0.7387583255767822),\n",
       " ('диарея', 0.7369372844696045),\n",
       " ('панкреатит', 0.7364274263381958),\n",
       " ('ревматоидный_артрит', 0.7353441715240479),\n",
       " ('идиопатическая', 0.7351337671279907),\n",
       " ('кожный_зуд', 0.7348761558532715),\n",
       " ('скарлатина', 0.7332731485366821),\n",
       " ('энтерит', 0.7330397963523865),\n",
       " ('нейродермит', 0.7294857501983643),\n",
       " ('сифилис', 0.7289275527000427),\n",
       " ('корь', 0.7280865907669067),\n",
       " ('простатит', 0.7264933586120605),\n",
       " ('вирусная_инфекция', 0.7261444926261902),\n",
       " ('конъюнктивит', 0.7260156869888306),\n",
       " ('гангрена', 0.7253180742263794),\n",
       " ('себорея', 0.7248758673667908),\n",
       " ('склеродермия', 0.7244752645492554),\n",
       " ('саркома', 0.7239407896995544),\n",
       " ('кишечная_непроходимость', 0.723781406879425),\n",
       " ('псориаз', 0.722693145275116),\n",
       " ('эпилепсия', 0.722258448600769),\n",
       " ('стенокардия', 0.7215869426727295),\n",
       " ('радикулит', 0.7213318943977356),\n",
       " ('желтуха', 0.7208901643753052),\n",
       " ('подагра', 0.7205219268798828),\n",
       " ('системная_красная', 0.7203131318092346),\n",
       " ('злокачественная', 0.7202897667884827),\n",
       " ('язва_желудка', 0.720210611820221),\n",
       " ('ревматизм', 0.7201124429702759),\n",
       " ('сердечная_недостаточность', 0.7193735241889954),\n",
       " ('кардиомиопатия', 0.7190322279930115),\n",
       " ('катаракта', 0.7188063263893127),\n",
       " ('гемолитическая_анемия', 0.7184733152389526),\n",
       " ('ретинопатия', 0.7183877229690552),\n",
       " ('аллергический_ринит', 0.7183005809783936),\n",
       " ('токсоплазмоз', 0.7182757258415222),\n",
       " ('деменция', 0.7181838154792786),\n",
       " ('доброкачественная', 0.7180823087692261),\n",
       " ('диспепсические_явления', 0.71784508228302),\n",
       " ('гастроэнтерит', 0.7158942818641663)]"
      ]
     },
     "execution_count": 14,
     "metadata": {},
     "output_type": "execute_result"
    }
   ],
   "source": [
    "%%time\n",
    "get_nns(word)"
   ]
  },
  {
   "cell_type": "markdown",
   "metadata": {},
   "source": [
    "## KNN by faiss"
   ]
  },
  {
   "cell_type": "code",
   "execution_count": 10,
   "metadata": {
    "scrolled": true
   },
   "outputs": [
    {
     "name": "stderr",
     "output_type": "stream",
     "text": [
      "/home/denis/Programs/anaconda3/lib/python3.7/site-packages/ipykernel_launcher.py:2: DeprecationWarning: Call to deprecated `syn0norm` (Attribute will be removed in 4.0.0, use self.vectors_norm instead).\n",
      "  \n"
     ]
    }
   ],
   "source": [
    "index = faiss.IndexFlatIP(wv.vector_size)\n",
    "index.add(wv.syn0norm)"
   ]
  },
  {
   "cell_type": "code",
   "execution_count": 12,
   "metadata": {},
   "outputs": [],
   "source": [
    "def get_nns_faiss(target, topn=NEIGHBORS):\n",
    "    \"\"\"\n",
    "    Get target neighbors by faiss\n",
    "    \"\"\"\n",
    "    nns_list = list()\n",
    "\n",
    "    numpy_vec = np.array([wv[target]])\n",
    "    D, I = index.search(numpy_vec, topn + 1)\n",
    "\n",
    "    for _D, _I in zip(D, I):\n",
    "        for n, (d, i) in enumerate(zip(_D.ravel(), _I.ravel())):\n",
    "            if n > 0:\n",
    "                nns_list.append((wv.index2word[i], d))\n",
    "\n",
    "    return nns_list"
   ]
  },
  {
   "cell_type": "code",
   "execution_count": 15,
   "metadata": {},
   "outputs": [
    {
     "name": "stdout",
     "output_type": "stream",
     "text": [
      "CPU times: user 1.18 s, sys: 59.8 ms, total: 1.24 s\n",
      "Wall time: 354 ms\n"
     ]
    },
    {
     "data": {
      "text/plain": [
       "[('малярия', 1.9416015),\n",
       " ('гонорея', 1.9401428),\n",
       " ('брюшной_тиф', 1.9394639),\n",
       " ('хроническая', 1.9319334),\n",
       " ('энцефалопатия', 1.9286476),\n",
       " ('чесотка', 1.9281138),\n",
       " ('волчанка', 1.924032),\n",
       " ('сибирская_язва', 1.9191079),\n",
       " ('пневмония', 1.9119697),\n",
       " ('экзема', 1.9056126),\n",
       " ('акатизия', 1.9033797),\n",
       " ('диарея', 1.8986872),\n",
       " ('панкреатит', 1.8973739),\n",
       " ('ревматоидный_артрит', 1.8945827),\n",
       " ('идиопатическая', 1.8940405),\n",
       " ('кожный_зуд', 1.8933771),\n",
       " ('скарлатина', 1.8892467),\n",
       " ('энтерит', 1.8886458),\n",
       " ('нейродермит', 1.8794886),\n",
       " ('сифилис', 1.8780508),\n",
       " ('корь', 1.8758836),\n",
       " ('простатит', 1.8717788),\n",
       " ('вирусная_инфекция', 1.8708802),\n",
       " ('конъюнктивит', 1.8705481),\n",
       " ('гангрена', 1.8687508),\n",
       " ('себорея', 1.8676116),\n",
       " ('склеродермия', 1.8665794),\n",
       " ('саркома', 1.8652024),\n",
       " ('кишечная_непроходимость', 1.8647914),\n",
       " ('псориаз', 1.8619876),\n",
       " ('эпилепсия', 1.8608676),\n",
       " ('стенокардия', 1.8591377),\n",
       " ('радикулит', 1.8584806),\n",
       " ('желтуха', 1.8573427),\n",
       " ('подагра', 1.8563939),\n",
       " ('системная_красная', 1.8558557),\n",
       " ('злокачественная', 1.855796),\n",
       " ('язва_желудка', 1.8555915),\n",
       " ('ревматизм', 1.855339),\n",
       " ('сердечная_недостаточность', 1.853435),\n",
       " ('кардиомиопатия', 1.8525558),\n",
       " ('катаракта', 1.851974),\n",
       " ('гемолитическая_анемия', 1.8511157),\n",
       " ('ретинопатия', 1.8508954),\n",
       " ('аллергический_ринит', 1.8506706),\n",
       " ('токсоплазмоз', 1.8506069),\n",
       " ('деменция', 1.8503702),\n",
       " ('доброкачественная', 1.8501084),\n",
       " ('диспепсические_явления', 1.8494974),\n",
       " ('гастроэнтерит', 1.844471)]"
      ]
     },
     "execution_count": 15,
     "metadata": {},
     "output_type": "execute_result"
    }
   ],
   "source": [
    "%%time\n",
    "get_nns_faiss(word)"
   ]
  }
 ],
 "metadata": {
  "kernelspec": {
   "display_name": "Python 3",
   "language": "python",
   "name": "python3"
  },
  "language_info": {
   "codemirror_mode": {
    "name": "ipython",
    "version": 3
   },
   "file_extension": ".py",
   "mimetype": "text/x-python",
   "name": "python",
   "nbconvert_exporter": "python",
   "pygments_lexer": "ipython3",
   "version": "3.7.3"
  }
 },
 "nbformat": 4,
 "nbformat_minor": 2
}
